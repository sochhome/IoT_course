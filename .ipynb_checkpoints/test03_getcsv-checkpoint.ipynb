{
 "cells": [
  {
   "cell_type": "markdown",
   "metadata": {},
   "source": [
    "# Basic Tabular Data Viewing with Temperature and Humidity"
   ]
  },
  {
   "cell_type": "code",
   "execution_count": 1,
   "metadata": {},
   "outputs": [
    {
     "name": "stdout",
     "output_type": "stream",
     "text": [
      "Collecting pandas"
     ]
    },
    {
     "name": "stderr",
     "output_type": "stream",
     "text": [
      "WARNING: You are using pip version 21.2.3; however, version 24.0 is available.\n",
      "You should consider upgrading via the 'D:\\soch1\\Projects\\IoT_course\\.venv\\Scripts\\python.exe -m pip install --upgrade pip' command.\n"
     ]
    },
    {
     "name": "stdout",
     "output_type": "stream",
     "text": [
      "\n",
      "  Using cached pandas-2.2.0-cp39-cp39-win_amd64.whl (11.6 MB)\n",
      "Collecting Pyarrow\n",
      "  Using cached pyarrow-15.0.0-cp39-cp39-win_amd64.whl (24.9 MB)\n",
      "Collecting pytz>=2020.1\n",
      "  Using cached pytz-2024.1-py2.py3-none-any.whl (505 kB)\n",
      "Collecting numpy<2,>=1.22.4\n",
      "  Using cached numpy-1.26.4-cp39-cp39-win_amd64.whl (15.8 MB)\n",
      "Collecting tzdata>=2022.7\n",
      "  Downloading tzdata-2024.1-py2.py3-none-any.whl (345 kB)\n",
      "Requirement already satisfied: python-dateutil>=2.8.2 in d:\\soch1\\projects\\iot_course\\.venv\\lib\\site-packages (from pandas) (2.8.2)\n",
      "Requirement already satisfied: six>=1.5 in d:\\soch1\\projects\\iot_course\\.venv\\lib\\site-packages (from python-dateutil>=2.8.2->pandas) (1.16.0)\n",
      "Installing collected packages: tzdata, pytz, numpy, Pyarrow, pandas\n",
      "Successfully installed Pyarrow-15.0.0 numpy-1.26.4 pandas-2.2.0 pytz-2024.1 tzdata-2024.1\n"
     ]
    }
   ],
   "source": [
    "!pip install pandas Pyarrow"
   ]
  },
  {
   "cell_type": "code",
   "execution_count": 2,
   "metadata": {},
   "outputs": [
    {
     "name": "stdout",
     "output_type": "stream",
     "text": [
      "2\n"
     ]
    }
   ],
   "source": [
    "print(1+1)"
   ]
  },
  {
   "cell_type": "code",
   "execution_count": 4,
   "metadata": {},
   "outputs": [
    {
     "data": {
      "text/html": [
       "<div>\n",
       "<style scoped>\n",
       "    .dataframe tbody tr th:only-of-type {\n",
       "        vertical-align: middle;\n",
       "    }\n",
       "\n",
       "    .dataframe tbody tr th {\n",
       "        vertical-align: top;\n",
       "    }\n",
       "\n",
       "    .dataframe thead th {\n",
       "        text-align: right;\n",
       "    }\n",
       "</style>\n",
       "<table border=\"1\" class=\"dataframe\">\n",
       "  <thead>\n",
       "    <tr style=\"text-align: right;\">\n",
       "      <th></th>\n",
       "      <th>Temperature</th>\n",
       "      <th>Humidity</th>\n",
       "    </tr>\n",
       "  </thead>\n",
       "  <tbody>\n",
       "    <tr>\n",
       "      <th>0</th>\n",
       "      <td>20</td>\n",
       "      <td>30</td>\n",
       "    </tr>\n",
       "    <tr>\n",
       "      <th>1</th>\n",
       "      <td>21</td>\n",
       "      <td>32</td>\n",
       "    </tr>\n",
       "    <tr>\n",
       "      <th>2</th>\n",
       "      <td>19</td>\n",
       "      <td>31</td>\n",
       "    </tr>\n",
       "    <tr>\n",
       "      <th>3</th>\n",
       "      <td>22</td>\n",
       "      <td>33</td>\n",
       "    </tr>\n",
       "    <tr>\n",
       "      <th>4</th>\n",
       "      <td>21</td>\n",
       "      <td>32</td>\n",
       "    </tr>\n",
       "    <tr>\n",
       "      <th>5</th>\n",
       "      <td>20</td>\n",
       "      <td>31</td>\n",
       "    </tr>\n",
       "    <tr>\n",
       "      <th>6</th>\n",
       "      <td>23</td>\n",
       "      <td>34</td>\n",
       "    </tr>\n",
       "    <tr>\n",
       "      <th>7</th>\n",
       "      <td>24</td>\n",
       "      <td>35</td>\n",
       "    </tr>\n",
       "    <tr>\n",
       "      <th>8</th>\n",
       "      <td>22</td>\n",
       "      <td>33</td>\n",
       "    </tr>\n",
       "    <tr>\n",
       "      <th>9</th>\n",
       "      <td>21</td>\n",
       "      <td>32</td>\n",
       "    </tr>\n",
       "  </tbody>\n",
       "</table>\n",
       "</div>"
      ],
      "text/plain": [
       "   Temperature  Humidity\n",
       "0           20        30\n",
       "1           21        32\n",
       "2           19        31\n",
       "3           22        33\n",
       "4           21        32\n",
       "5           20        31\n",
       "6           23        34\n",
       "7           24        35\n",
       "8           22        33\n",
       "9           21        32"
      ]
     },
     "execution_count": 4,
     "metadata": {},
     "output_type": "execute_result"
    }
   ],
   "source": [
    "import pandas as pd\n",
    "\n",
    "# Create a DataFrame with ten records\n",
    "data = {\n",
    "    'Temperature': [20, 21, 19, 22, 21, 20, 23, 24, 22, 21],\n",
    "    'Humidity': [30, 32, 31, 33, 32, 31, 34, 35, 33, 32]\n",
    "}\n",
    "df = pd.DataFrame(data)\n",
    "\n",
    "# Save the DataFrame to a CSV file\n",
    "df.to_csv('data_tst.csv', index=False)\n",
    "\n",
    "# Read the CSV file into a DataFrame\n",
    "df = pd.read_csv('data_tst.csv')\n",
    "\n",
    "# Display the DataFrame\n",
    "df"
   ]
  },
  {
   "cell_type": "markdown",
   "metadata": {},
   "source": [
    "### This data represents the indoor air quality at different times, with temperature in °C, humidity in %, CO2 in ppm (parts per million), and TVOC (Total Volatile Organic Compounds) in ppb (parts per billion). All values are within the recommended ranges for good indoor air quality. Please note that the CO2 and TVOC values are hypothetical and may not represent typical indoor levels"
   ]
  },
  {
   "cell_type": "code",
   "execution_count": 49,
   "metadata": {},
   "outputs": [
    {
     "data": {
      "text/html": [
       "<div>\n",
       "<style scoped>\n",
       "    .dataframe tbody tr th:only-of-type {\n",
       "        vertical-align: middle;\n",
       "    }\n",
       "\n",
       "    .dataframe tbody tr th {\n",
       "        vertical-align: top;\n",
       "    }\n",
       "\n",
       "    .dataframe thead th {\n",
       "        text-align: right;\n",
       "    }\n",
       "</style>\n",
       "<table border=\"1\" class=\"dataframe\">\n",
       "  <thead>\n",
       "    <tr style=\"text-align: right;\">\n",
       "      <th></th>\n",
       "      <th>Last update time</th>\n",
       "      <th>Key</th>\n",
       "      <th>Value</th>\n",
       "    </tr>\n",
       "  </thead>\n",
       "  <tbody>\n",
       "    <tr>\n",
       "      <th>0</th>\n",
       "      <td>20/02/2024 10:44</td>\n",
       "      <td>CO2</td>\n",
       "      <td>403.0</td>\n",
       "    </tr>\n",
       "    <tr>\n",
       "      <th>1</th>\n",
       "      <td>20/02/2024 10:44</td>\n",
       "      <td>Humidity</td>\n",
       "      <td>44.0</td>\n",
       "    </tr>\n",
       "    <tr>\n",
       "      <th>2</th>\n",
       "      <td>20/02/2024 10:44</td>\n",
       "      <td>TVOC</td>\n",
       "      <td>0.0</td>\n",
       "    </tr>\n",
       "    <tr>\n",
       "      <th>3</th>\n",
       "      <td>20/02/2024 10:44</td>\n",
       "      <td>Temperature</td>\n",
       "      <td>20.5</td>\n",
       "    </tr>\n",
       "  </tbody>\n",
       "</table>\n",
       "</div>"
      ],
      "text/plain": [
       "   Last update time          Key  Value\n",
       "0  20/02/2024 10:44          CO2  403.0\n",
       "1  20/02/2024 10:44     Humidity   44.0\n",
       "2  20/02/2024 10:44         TVOC    0.0\n",
       "3  20/02/2024 10:44  Temperature   20.5"
      ]
     },
     "execution_count": 49,
     "metadata": {},
     "output_type": "execute_result"
    }
   ],
   "source": [
    "# Load the data\n",
    "df = pd.read_csv('latest_telemetry.csv')\n",
    "\n",
    "df"
   ]
  },
  {
   "cell_type": "code",
   "execution_count": 50,
   "metadata": {},
   "outputs": [
    {
     "data": {
      "text/html": [
       "<div>\n",
       "<style scoped>\n",
       "    .dataframe tbody tr th:only-of-type {\n",
       "        vertical-align: middle;\n",
       "    }\n",
       "\n",
       "    .dataframe tbody tr th {\n",
       "        vertical-align: top;\n",
       "    }\n",
       "\n",
       "    .dataframe thead th {\n",
       "        text-align: right;\n",
       "    }\n",
       "</style>\n",
       "<table border=\"1\" class=\"dataframe\">\n",
       "  <thead>\n",
       "    <tr style=\"text-align: right;\">\n",
       "      <th>Key</th>\n",
       "      <th>Last update time</th>\n",
       "      <th>CO2</th>\n",
       "      <th>Humidity</th>\n",
       "      <th>TVOC</th>\n",
       "      <th>Temperature</th>\n",
       "    </tr>\n",
       "  </thead>\n",
       "  <tbody>\n",
       "    <tr>\n",
       "      <th>0</th>\n",
       "      <td>20/02/2024 10:44</td>\n",
       "      <td>403.0</td>\n",
       "      <td>44.0</td>\n",
       "      <td>0.0</td>\n",
       "      <td>20.5</td>\n",
       "    </tr>\n",
       "  </tbody>\n",
       "</table>\n",
       "</div>"
      ],
      "text/plain": [
       "Key  Last update time    CO2  Humidity  TVOC  Temperature\n",
       "0    20/02/2024 10:44  403.0      44.0   0.0         20.5"
      ]
     },
     "execution_count": 50,
     "metadata": {},
     "output_type": "execute_result"
    }
   ],
   "source": [
    "# Pivot the DataFrame\n",
    "df_pivot = df.pivot(index='Last update time', columns='Key', values='Value')\n",
    "\n",
    "# Reset the index\n",
    "df_pivot.reset_index(inplace=True)\n",
    "\n",
    "# Save the transformed data\n",
    "df_pivot.head()"
   ]
  },
  {
   "cell_type": "code",
   "execution_count": 51,
   "metadata": {},
   "outputs": [],
   "source": [
    "def transform_data(latest_telemetry_file, data_file):\n",
    "    # Load the existing data\n",
    "    df_data = pd.read_csv(data_file)\n",
    "\n",
    "    # Load the new data\n",
    "    df_latest = pd.read_csv(latest_telemetry_file)\n",
    "\n",
    "    # Pivot the new DataFrame\n",
    "    df_latest_pivot = df_latest.pivot(index='Lastupdatetime', columns='Key', values='Value')\n",
    "\n",
    "    # Reset the index\n",
    "    df_latest_pivot.reset_index(inplace=True)\n",
    "\n",
    "    # Append the new data to the existing data\n",
    "    df_combined = pd.concat([df_data, df_latest_pivot])\n",
    "\n",
    "    return df_combined"
   ]
  },
  {
   "cell_type": "code",
   "execution_count": 8,
   "metadata": {},
   "outputs": [],
   "source": [
    "def save_data(df, data_file):\n",
    "    # Save the combined data\n",
    "    df.to_csv(data_file, index=False)"
   ]
  },
  {
   "cell_type": "code",
   "execution_count": 56,
   "metadata": {},
   "outputs": [],
   "source": [
    "#  check if .csv exists before trying to read it. If it doesn’t exist, it will create an empty DataFrame and save it as .csv\n",
    "import os\n",
    "\n",
    "def transform_data(latest_telemetry_file, data_file):\n",
    "    # Check if data_file exists\n",
    "    if os.path.exists(data_file):\n",
    "        # Load the existing data\n",
    "        df_data = pd.read_csv(data_file)\n",
    "    else:\n",
    "        # Create an empty DataFrame with the required columns\n",
    "        df_data = pd.DataFrame(columns=['Lastupdatetime', 'Temperature', 'Humidity', 'CO2', 'TVOC'])\n",
    "\n",
    "    # Load the new data\n",
    "    df_latest = pd.read_csv(latest_telemetry_file)\n",
    "\n",
    "    df_latest = df_latest.rename(columns={'Last update time': 'Lastupdatetime'})\n",
    "\n",
    "    # Pivot the new DataFrame\n",
    "    df_latest_pivot = df_latest.pivot(index='Lastupdatetime', columns='Key', values='Value')\n",
    "\n",
    "    # Reset the index\n",
    "    df_latest_pivot.reset_index(inplace=True)\n",
    "\n",
    "    # Append the new data to the existing data\n",
    "    df_combined = pd.concat([df_data, df_latest_pivot])\n",
    "\n",
    "    return df_combined"
   ]
  },
  {
   "cell_type": "markdown",
   "metadata": {},
   "source": [
    "## Main Function"
   ]
  },
  {
   "cell_type": "code",
   "execution_count": 57,
   "metadata": {},
   "outputs": [],
   "source": [
    "latest_telemetry_file = 'latest_telemetry.csv'\n",
    "data_file = 'data01.csv'\n",
    "\n",
    "df_combined = transform_data(latest_telemetry_file, data_file)\n",
    "save_data(df_combined, data_file)"
   ]
  },
  {
   "cell_type": "code",
   "execution_count": 72,
   "metadata": {
    "scrolled": true
   },
   "outputs": [
    {
     "data": {
      "text/html": [
       "<div>\n",
       "<style scoped>\n",
       "    .dataframe tbody tr th:only-of-type {\n",
       "        vertical-align: middle;\n",
       "    }\n",
       "\n",
       "    .dataframe tbody tr th {\n",
       "        vertical-align: top;\n",
       "    }\n",
       "\n",
       "    .dataframe thead th {\n",
       "        text-align: right;\n",
       "    }\n",
       "</style>\n",
       "<table border=\"1\" class=\"dataframe\">\n",
       "  <thead>\n",
       "    <tr style=\"text-align: right;\">\n",
       "      <th></th>\n",
       "      <th>Lastupdatetime</th>\n",
       "      <th>Temperature</th>\n",
       "      <th>Humidity</th>\n",
       "      <th>CO2</th>\n",
       "      <th>TVOC</th>\n",
       "    </tr>\n",
       "  </thead>\n",
       "  <tbody>\n",
       "    <tr>\n",
       "      <th>1549</th>\n",
       "      <td>02/03/2024 04:34</td>\n",
       "      <td>20.5</td>\n",
       "      <td>57.0</td>\n",
       "      <td>407.5</td>\n",
       "      <td>0</td>\n",
       "    </tr>\n",
       "    <tr>\n",
       "      <th>1550</th>\n",
       "      <td>02/03/2024 04:44</td>\n",
       "      <td>20.5</td>\n",
       "      <td>57.4</td>\n",
       "      <td>408.0</td>\n",
       "      <td>0</td>\n",
       "    </tr>\n",
       "    <tr>\n",
       "      <th>1551</th>\n",
       "      <td>02/03/2024 04:54</td>\n",
       "      <td>20.5</td>\n",
       "      <td>57.8</td>\n",
       "      <td>408.5</td>\n",
       "      <td>0</td>\n",
       "    </tr>\n",
       "    <tr>\n",
       "      <th>1552</th>\n",
       "      <td>02/03/2024 05:04</td>\n",
       "      <td>20.5</td>\n",
       "      <td>58.2</td>\n",
       "      <td>409.0</td>\n",
       "      <td>0</td>\n",
       "    </tr>\n",
       "    <tr>\n",
       "      <th>1553</th>\n",
       "      <td>03/03/2024 05:04</td>\n",
       "      <td>20.5</td>\n",
       "      <td>58.6</td>\n",
       "      <td>409.5</td>\n",
       "      <td>0</td>\n",
       "    </tr>\n",
       "  </tbody>\n",
       "</table>\n",
       "</div>"
      ],
      "text/plain": [
       "        Lastupdatetime  Temperature  Humidity    CO2  TVOC\n",
       "1549  02/03/2024 04:34         20.5      57.0  407.5     0\n",
       "1550  02/03/2024 04:44         20.5      57.4  408.0     0\n",
       "1551  02/03/2024 04:54         20.5      57.8  408.5     0\n",
       "1552  02/03/2024 05:04         20.5      58.2  409.0     0\n",
       "1553  03/03/2024 05:04         20.5      58.6  409.5     0"
      ]
     },
     "execution_count": 72,
     "metadata": {},
     "output_type": "execute_result"
    }
   ],
   "source": [
    "aq = pd.read_csv('data01.csv')\n",
    "aq.tail()"
   ]
  },
  {
   "cell_type": "code",
   "execution_count": 73,
   "metadata": {},
   "outputs": [
    {
     "name": "stdout",
     "output_type": "stream",
     "text": [
      "<class 'pandas.core.frame.DataFrame'>\n",
      "RangeIndex: 1554 entries, 0 to 1553\n",
      "Data columns (total 5 columns):\n",
      " #   Column          Non-Null Count  Dtype  \n",
      "---  ------          --------------  -----  \n",
      " 0   Lastupdatetime  1554 non-null   object \n",
      " 1   Temperature     1554 non-null   float64\n",
      " 2   Humidity        1554 non-null   float64\n",
      " 3   CO2             1554 non-null   float64\n",
      " 4   TVOC            1554 non-null   int64  \n",
      "dtypes: float64(3), int64(1), object(1)\n",
      "memory usage: 60.8+ KB\n"
     ]
    }
   ],
   "source": [
    "df.info()"
   ]
  },
  {
   "cell_type": "markdown",
   "metadata": {},
   "source": [
    "## Time Series \n",
    "Let's visualize the CO / temperature in hourly basis."
   ]
  },
  {
   "cell_type": "code",
   "execution_count": 65,
   "metadata": {},
   "outputs": [],
   "source": [
    "#For dealing with time string types\n",
    "import datetime"
   ]
  },
  {
   "cell_type": "code",
   "execution_count": 74,
   "metadata": {},
   "outputs": [
    {
     "data": {
      "text/html": [
       "<div>\n",
       "<style scoped>\n",
       "    .dataframe tbody tr th:only-of-type {\n",
       "        vertical-align: middle;\n",
       "    }\n",
       "\n",
       "    .dataframe tbody tr th {\n",
       "        vertical-align: top;\n",
       "    }\n",
       "\n",
       "    .dataframe thead th {\n",
       "        text-align: right;\n",
       "    }\n",
       "</style>\n",
       "<table border=\"1\" class=\"dataframe\">\n",
       "  <thead>\n",
       "    <tr style=\"text-align: right;\">\n",
       "      <th></th>\n",
       "      <th>Lastupdatetime</th>\n",
       "      <th>Temperature</th>\n",
       "      <th>Humidity</th>\n",
       "      <th>CO2</th>\n",
       "      <th>TVOC</th>\n",
       "    </tr>\n",
       "  </thead>\n",
       "  <tbody>\n",
       "    <tr>\n",
       "      <th>0</th>\n",
       "      <td>2024-02-20 10:34:00</td>\n",
       "      <td>21.0</td>\n",
       "      <td>45.0</td>\n",
       "      <td>405.0</td>\n",
       "      <td>0</td>\n",
       "    </tr>\n",
       "    <tr>\n",
       "      <th>1</th>\n",
       "      <td>2024-02-20 10:34:00</td>\n",
       "      <td>21.0</td>\n",
       "      <td>45.0</td>\n",
       "      <td>405.0</td>\n",
       "      <td>0</td>\n",
       "    </tr>\n",
       "    <tr>\n",
       "      <th>2</th>\n",
       "      <td>2024-02-20 10:44:00</td>\n",
       "      <td>20.5</td>\n",
       "      <td>44.0</td>\n",
       "      <td>403.0</td>\n",
       "      <td>0</td>\n",
       "    </tr>\n",
       "    <tr>\n",
       "      <th>3</th>\n",
       "      <td>2024-02-20 10:54:00</td>\n",
       "      <td>21.5</td>\n",
       "      <td>50.0</td>\n",
       "      <td>400.0</td>\n",
       "      <td>0</td>\n",
       "    </tr>\n",
       "    <tr>\n",
       "      <th>4</th>\n",
       "      <td>2024-02-20 11:04:00</td>\n",
       "      <td>22.0</td>\n",
       "      <td>55.0</td>\n",
       "      <td>410.0</td>\n",
       "      <td>0</td>\n",
       "    </tr>\n",
       "  </tbody>\n",
       "</table>\n",
       "</div>"
      ],
      "text/plain": [
       "       Lastupdatetime  Temperature  Humidity    CO2  TVOC\n",
       "0 2024-02-20 10:34:00         21.0      45.0  405.0     0\n",
       "1 2024-02-20 10:34:00         21.0      45.0  405.0     0\n",
       "2 2024-02-20 10:44:00         20.5      44.0  403.0     0\n",
       "3 2024-02-20 10:54:00         21.5      50.0  400.0     0\n",
       "4 2024-02-20 11:04:00         22.0      55.0  410.0     0"
      ]
     },
     "execution_count": 74,
     "metadata": {},
     "output_type": "execute_result"
    }
   ],
   "source": [
    "aq.Lastupdatetime = aq.Lastupdatetime.apply(lambda x: datetime.datetime.strptime(x, '%d/%m/%Y %H:%M'))\n",
    "aq.head()"
   ]
  },
  {
   "cell_type": "code",
   "execution_count": 76,
   "metadata": {},
   "outputs": [],
   "source": [
    "aq = aq.rename(columns={'Lastupdatetime':'DateTime'})"
   ]
  },
  {
   "cell_type": "code",
   "execution_count": 78,
   "metadata": {},
   "outputs": [
    {
     "data": {
      "text/html": [
       "<div>\n",
       "<style scoped>\n",
       "    .dataframe tbody tr th:only-of-type {\n",
       "        vertical-align: middle;\n",
       "    }\n",
       "\n",
       "    .dataframe tbody tr th {\n",
       "        vertical-align: top;\n",
       "    }\n",
       "\n",
       "    .dataframe thead th {\n",
       "        text-align: right;\n",
       "    }\n",
       "</style>\n",
       "<table border=\"1\" class=\"dataframe\">\n",
       "  <thead>\n",
       "    <tr style=\"text-align: right;\">\n",
       "      <th></th>\n",
       "      <th>DateTime</th>\n",
       "      <th>Temperature</th>\n",
       "      <th>Humidity</th>\n",
       "      <th>CO2</th>\n",
       "      <th>TVOC</th>\n",
       "      <th>Weekday</th>\n",
       "      <th>Month</th>\n",
       "      <th>Hour</th>\n",
       "      <th>Date</th>\n",
       "    </tr>\n",
       "  </thead>\n",
       "  <tbody>\n",
       "    <tr>\n",
       "      <th>0</th>\n",
       "      <td>2024-02-20 10:34:00</td>\n",
       "      <td>21.0</td>\n",
       "      <td>45.0</td>\n",
       "      <td>405.0</td>\n",
       "      <td>0</td>\n",
       "      <td>Tuesday</td>\n",
       "      <td>February</td>\n",
       "      <td>10</td>\n",
       "      <td>2024-02-20 10:34:00</td>\n",
       "    </tr>\n",
       "    <tr>\n",
       "      <th>1</th>\n",
       "      <td>2024-02-20 10:34:00</td>\n",
       "      <td>21.0</td>\n",
       "      <td>45.0</td>\n",
       "      <td>405.0</td>\n",
       "      <td>0</td>\n",
       "      <td>Tuesday</td>\n",
       "      <td>February</td>\n",
       "      <td>10</td>\n",
       "      <td>2024-02-20 10:34:00</td>\n",
       "    </tr>\n",
       "    <tr>\n",
       "      <th>2</th>\n",
       "      <td>2024-02-20 10:44:00</td>\n",
       "      <td>20.5</td>\n",
       "      <td>44.0</td>\n",
       "      <td>403.0</td>\n",
       "      <td>0</td>\n",
       "      <td>Tuesday</td>\n",
       "      <td>February</td>\n",
       "      <td>10</td>\n",
       "      <td>2024-02-20 10:44:00</td>\n",
       "    </tr>\n",
       "    <tr>\n",
       "      <th>3</th>\n",
       "      <td>2024-02-20 10:54:00</td>\n",
       "      <td>21.5</td>\n",
       "      <td>50.0</td>\n",
       "      <td>400.0</td>\n",
       "      <td>0</td>\n",
       "      <td>Tuesday</td>\n",
       "      <td>February</td>\n",
       "      <td>10</td>\n",
       "      <td>2024-02-20 10:54:00</td>\n",
       "    </tr>\n",
       "    <tr>\n",
       "      <th>4</th>\n",
       "      <td>2024-02-20 11:04:00</td>\n",
       "      <td>22.0</td>\n",
       "      <td>55.0</td>\n",
       "      <td>410.0</td>\n",
       "      <td>0</td>\n",
       "      <td>Tuesday</td>\n",
       "      <td>February</td>\n",
       "      <td>11</td>\n",
       "      <td>2024-02-20 11:04:00</td>\n",
       "    </tr>\n",
       "  </tbody>\n",
       "</table>\n",
       "</div>"
      ],
      "text/plain": [
       "             DateTime  Temperature  Humidity    CO2  TVOC  Weekday     Month  \\\n",
       "0 2024-02-20 10:34:00         21.0      45.0  405.0     0  Tuesday  February   \n",
       "1 2024-02-20 10:34:00         21.0      45.0  405.0     0  Tuesday  February   \n",
       "2 2024-02-20 10:44:00         20.5      44.0  403.0     0  Tuesday  February   \n",
       "3 2024-02-20 10:54:00         21.5      50.0  400.0     0  Tuesday  February   \n",
       "4 2024-02-20 11:04:00         22.0      55.0  410.0     0  Tuesday  February   \n",
       "\n",
       "   Hour                Date  \n",
       "0    10 2024-02-20 10:34:00  \n",
       "1    10 2024-02-20 10:34:00  \n",
       "2    10 2024-02-20 10:44:00  \n",
       "3    10 2024-02-20 10:54:00  \n",
       "4    11 2024-02-20 11:04:00  "
      ]
     },
     "execution_count": 78,
     "metadata": {},
     "output_type": "execute_result"
    }
   ],
   "source": [
    "aq['Weekday'] = aq['DateTime'].dt.day_name()\n",
    "aq['Month']   = aq['DateTime'].dt.month_name()\n",
    "aq['Hour']    = aq['DateTime'].dt.hour\n",
    "#aq['Date']    = pd.to_datetime(aq['DateTime'], format='%d/%m/%Y')\n",
    "aq['Date'] = aq['Datetime'].dt.date\n",
    "aq.drop('Time', axis=1, inplace=True, errors = 'ignore') \n",
    "aq.head()"
   ]
  },
  {
   "cell_type": "code",
   "execution_count": null,
   "metadata": {},
   "outputs": [],
   "source": []
  }
 ],
 "metadata": {
  "kernelspec": {
   "display_name": "Python 3 (ipykernel)",
   "language": "python",
   "name": "python3"
  },
  "language_info": {
   "codemirror_mode": {
    "name": "ipython",
    "version": 3
   },
   "file_extension": ".py",
   "mimetype": "text/x-python",
   "name": "python",
   "nbconvert_exporter": "python",
   "pygments_lexer": "ipython3",
   "version": "3.9.7"
  }
 },
 "nbformat": 4,
 "nbformat_minor": 4
}
