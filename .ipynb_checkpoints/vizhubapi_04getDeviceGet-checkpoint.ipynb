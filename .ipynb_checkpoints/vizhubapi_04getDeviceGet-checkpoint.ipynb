{
 "cells": [
  {
   "cell_type": "markdown",
   "metadata": {},
   "source": [
    "## Getting IoT Data"
   ]
  },
  {
   "cell_type": "markdown",
   "metadata": {},
   "source": [
    "### load Required Packages"
   ]
  },
  {
   "cell_type": "code",
   "execution_count": 5,
   "metadata": {},
   "outputs": [
    {
     "name": "stdout",
     "output_type": "stream",
     "text": [
      "Collecting python-dotenv\n",
      "  Using cached python_dotenv-1.0.1-py3-none-any.whl (19 kB)\n",
      "Installing collected packages: python-dotenv\n",
      "Successfully installed python-dotenv-1.0.1\n",
      "\n",
      "[notice] A new release of pip available: 22.1.2 -> 24.0\n",
      "[notice] To update, run: python.exe -m pip install --upgrade pip\n"
     ]
    }
   ],
   "source": [
    "!pip install python-dotenv"
   ]
  },
  {
   "cell_type": "code",
   "execution_count": 6,
   "metadata": {},
   "outputs": [],
   "source": [
    "import requests\n",
    "import csv\n",
    "from datetime import datetime\n",
    "import json\n",
    "import os\n",
    "from dotenv import load_dotenv\n"
   ]
  },
  {
   "cell_type": "code",
   "execution_count": 7,
   "metadata": {},
   "outputs": [],
   "source": [
    "def login(url):\n",
    "    load_dotenv()\n",
    "    # Define the username and password\n",
    "    post_data = {\n",
    "        'username': os.environ.get('VIZHUB_LOGIN'), \n",
    "        'password': os.environ.get('VIZHUB_PW') \n",
    "    }\n",
    "\n",
    "    # Define the headers\n",
    "    headers = {\n",
    "        'Content-Type': 'application/json',\n",
    "        'Accept': 'application/json'\n",
    "    }\n",
    "\n",
    "    # Send the POST request\n",
    "    # response = requests.post(url, data=data)\n",
    "    response = requests.post(url, headers=headers, data=json.dumps(post_data))\n",
    "\n",
    "    if response.status_code == 200:\n",
    "        data = response.json()\n",
    "        return data\n",
    "    else:\n",
    "        print(\"Failed to fetch data from ThingsBoard API. Status code:\", response.status_code)\n",
    "        return None\n"
   ]
  },
  {
   "cell_type": "code",
   "execution_count": 8,
   "metadata": {},
   "outputs": [],
   "source": [
    "def fetch_sensor_data(device_id, sensor_key, start_ts, end_ts, access_token):\n",
    "    url = f'http://locationai.tech:8080/api/plugins/telemetry/DEVICE/{device_id}/values/timeseries?keys={sensor_key}'\n",
    "    headers = {\n",
    "        'Content-Type': 'application/json',\n",
    "        'Accept': 'application/json',\n",
    "        'X-Authorization': f'Bearer {access_token}'\n",
    "    }\n",
    "    params = {\n",
    "        'startTs': start_ts,\n",
    "        'endTs': end_ts\n",
    "    }\n",
    "    response = requests.get(url, headers=headers, params=params)\n",
    "    if response.status_code == 200:\n",
    "        data = response.json()\n",
    "        return data\n",
    "    else:\n",
    "        print(\"Failed to fetch data from ThingsBoard API. Status code:\", response.status_code)\n",
    "        return None"
   ]
  },
  {
   "cell_type": "code",
   "execution_count": 9,
   "metadata": {},
   "outputs": [],
   "source": [
    "def timestamp_to_datetime(timestamp):\n",
    "    return datetime.utcfromtimestamp(timestamp / 1000).strftime('%Y-%m-%d %H:%M:%S')"
   ]
  },
  {
   "cell_type": "code",
   "execution_count": 10,
   "metadata": {},
   "outputs": [],
   "source": [
    "url = f'http://locationai.tech:8080/api/auth/login'\n",
    "response_data = login(url)\n"
   ]
  },
  {
   "cell_type": "code",
   "execution_count": 11,
   "metadata": {},
   "outputs": [],
   "source": [
    "access_token = response_data['token']"
   ]
  },
  {
   "cell_type": "code",
   "execution_count": 12,
   "metadata": {},
   "outputs": [],
   "source": [
    "device_id = '58366820-ae63-11ee-a39c-0f270afb2199' #STEM2"
   ]
  },
  {
   "cell_type": "code",
   "execution_count": 13,
   "metadata": {},
   "outputs": [],
   "source": [
    "    sensor_key = \"CO2\"\n",
    "    start_ts = 1700000000000\n",
    "    end_ts = 1710000000000"
   ]
  },
  {
   "cell_type": "code",
   "execution_count": 14,
   "metadata": {},
   "outputs": [],
   "source": [
    "    data = fetch_sensor_data(device_id, sensor_key, start_ts, end_ts, access_token)"
   ]
  },
  {
   "cell_type": "code",
   "execution_count": 15,
   "metadata": {},
   "outputs": [
    {
     "name": "stdout",
     "output_type": "stream",
     "text": [
      "Data written to thingsboard_co2_data.csv\n"
     ]
    }
   ],
   "source": [
    "if data and sensor_key in data:\n",
    "        timestamps = [entry['ts'] for entry in data[sensor_key]]\n",
    "        values = [entry['value'] for entry in data[sensor_key]]\n",
    "\n",
    "        # Convert timestamps to datetime strings\n",
    "        timestamps = [timestamp_to_datetime(ts) for ts in timestamps]\n",
    "\n",
    "        with open(f'csv_data/thingsboard_{sensor_key.lower()}_data.csv', 'w', newline='') as csvfile:\n",
    "            writer = csv.writer(csvfile)\n",
    "            writer.writerow(['Timestamp', sensor_key])\n",
    "            writer.writerows(zip(timestamps, values))\n",
    "\n",
    "        print(f\"Data written to thingsboard_{sensor_key.lower()}_data.csv\")\n",
    "else:\n",
    "        print(f\"No data available for the specified sensor ({sensor_key}) or time range.\")"
   ]
  },
  {
   "cell_type": "code",
   "execution_count": 18,
   "metadata": {},
   "outputs": [
    {
     "data": {
      "text/plain": [
       "{'CO2': [{'ts': 1708458900499, 'value': '416'},\n",
       "  {'ts': 1708458878642, 'value': '408'},\n",
       "  {'ts': 1708458856767, 'value': '413'},\n",
       "  {'ts': 1708458834993, 'value': '411'},\n",
       "  {'ts': 1708458813173, 'value': '409'},\n",
       "  {'ts': 1708458790946, 'value': '413'},\n",
       "  {'ts': 1708458768938, 'value': '413'},\n",
       "  {'ts': 1708458746802, 'value': '412'},\n",
       "  {'ts': 1708458725039, 'value': '411'},\n",
       "  {'ts': 1708458703249, 'value': '414'},\n",
       "  {'ts': 1708458680809, 'value': '414'},\n",
       "  {'ts': 1708458658796, 'value': '417'},\n",
       "  {'ts': 1708458636826, 'value': '417'},\n",
       "  {'ts': 1708458615101, 'value': '416'},\n",
       "  {'ts': 1708458593825, 'value': '415'},\n",
       "  {'ts': 1708458572000, 'value': '416'},\n",
       "  {'ts': 1708458550171, 'value': '420'},\n",
       "  {'ts': 1708458527940, 'value': '425'},\n",
       "  {'ts': 1708458505999, 'value': '425'},\n",
       "  {'ts': 1708458484089, 'value': '425'},\n",
       "  {'ts': 1708458462610, 'value': '425'},\n",
       "  {'ts': 1708458440478, 'value': '427'},\n",
       "  {'ts': 1708458418364, 'value': '428'},\n",
       "  {'ts': 1708458396414, 'value': '428'},\n",
       "  {'ts': 1708458374436, 'value': '426'},\n",
       "  {'ts': 1708458352291, 'value': '425'},\n",
       "  {'ts': 1708458330471, 'value': '425'},\n",
       "  {'ts': 1708458308321, 'value': '430'},\n",
       "  {'ts': 1708458286270, 'value': '431'},\n",
       "  {'ts': 1708458264442, 'value': '435'},\n",
       "  {'ts': 1708458242163, 'value': '439'},\n",
       "  {'ts': 1708458219904, 'value': '442'},\n",
       "  {'ts': 1708458197484, 'value': '442'},\n",
       "  {'ts': 1708458175031, 'value': '445'},\n",
       "  {'ts': 1708458152650, 'value': '444'},\n",
       "  {'ts': 1708458130480, 'value': '445'},\n",
       "  {'ts': 1708458108112, 'value': '444'},\n",
       "  {'ts': 1708458085541, 'value': '445'},\n",
       "  {'ts': 1708458063235, 'value': '445'},\n",
       "  {'ts': 1708458040807, 'value': '444'},\n",
       "  {'ts': 1708458018694, 'value': '445'},\n",
       "  {'ts': 1708457996259, 'value': '443'},\n",
       "  {'ts': 1708457974442, 'value': '442'},\n",
       "  {'ts': 1708457952013, 'value': '439'},\n",
       "  {'ts': 1708457929477, 'value': '438'},\n",
       "  {'ts': 1708457907106, 'value': '435'},\n",
       "  {'ts': 1708457885357, 'value': '431'},\n",
       "  {'ts': 1708457863269, 'value': '428'},\n",
       "  {'ts': 1708457840803, 'value': '422'},\n",
       "  {'ts': 1708457818376, 'value': '409'},\n",
       "  {'ts': 1708457796343, 'value': '401'},\n",
       "  {'ts': 1708457773806, 'value': '400'},\n",
       "  {'ts': 1708457751383, 'value': '405'},\n",
       "  {'ts': 1708457729296, 'value': '407'},\n",
       "  {'ts': 1708457707171, 'value': '413'},\n",
       "  {'ts': 1708457684748, 'value': '413'},\n",
       "  {'ts': 1708457662684, 'value': '413'},\n",
       "  {'ts': 1708457640701, 'value': '410'},\n",
       "  {'ts': 1708457618416, 'value': '405'},\n",
       "  {'ts': 1708457596317, 'value': '405'},\n",
       "  {'ts': 1708457573839, 'value': '408'},\n",
       "  {'ts': 1708457551757, 'value': '406'},\n",
       "  {'ts': 1708457529250, 'value': '404'},\n",
       "  {'ts': 1708457506898, 'value': '406'},\n",
       "  {'ts': 1708457484644, 'value': '409'},\n",
       "  {'ts': 1708457462595, 'value': '415'},\n",
       "  {'ts': 1708457440197, 'value': '422'},\n",
       "  {'ts': 1708457417760, 'value': '424'},\n",
       "  {'ts': 1708457395651, 'value': '426'},\n",
       "  {'ts': 1708457373269, 'value': '425'},\n",
       "  {'ts': 1708457350794, 'value': '425'},\n",
       "  {'ts': 1708457328622, 'value': '422'},\n",
       "  {'ts': 1708457306262, 'value': '417'},\n",
       "  {'ts': 1708457283855, 'value': '426'},\n",
       "  {'ts': 1708457261360, 'value': '428'},\n",
       "  {'ts': 1708457239010, 'value': '427'},\n",
       "  {'ts': 1708457216569, 'value': '430'},\n",
       "  {'ts': 1708457194144, 'value': '434'},\n",
       "  {'ts': 1708457172215, 'value': '432'},\n",
       "  {'ts': 1708457149914, 'value': '429'},\n",
       "  {'ts': 1708457127467, 'value': '429'},\n",
       "  {'ts': 1708457105067, 'value': '426'},\n",
       "  {'ts': 1708457082955, 'value': '427'},\n",
       "  {'ts': 1708457060783, 'value': '429'},\n",
       "  {'ts': 1708457038404, 'value': '443'},\n",
       "  {'ts': 1708457016399, 'value': '441'},\n",
       "  {'ts': 1708456994414, 'value': '441'},\n",
       "  {'ts': 1708456972058, 'value': '439'},\n",
       "  {'ts': 1708456949597, 'value': '443'},\n",
       "  {'ts': 1708456927775, 'value': '445'},\n",
       "  {'ts': 1708456905672, 'value': '444'},\n",
       "  {'ts': 1708456883910, 'value': '444'},\n",
       "  {'ts': 1708456861715, 'value': '443'},\n",
       "  {'ts': 1708456839650, 'value': '442'},\n",
       "  {'ts': 1708456817543, 'value': '439'},\n",
       "  {'ts': 1708456795702, 'value': '440'},\n",
       "  {'ts': 1708456773569, 'value': '437'},\n",
       "  {'ts': 1708456751473, 'value': '431'},\n",
       "  {'ts': 1708456729331, 'value': '437'},\n",
       "  {'ts': 1708456707161, 'value': '444'}]}"
      ]
     },
     "execution_count": 18,
     "metadata": {},
     "output_type": "execute_result"
    }
   ],
   "source": [
    "data"
   ]
  },
  {
   "cell_type": "code",
   "execution_count": null,
   "metadata": {},
   "outputs": [],
   "source": []
  }
 ],
 "metadata": {
  "kernelspec": {
   "display_name": "Python 3 (ipykernel)",
   "language": "python",
   "name": "python3"
  },
  "language_info": {
   "codemirror_mode": {
    "name": "ipython",
    "version": 3
   },
   "file_extension": ".py",
   "mimetype": "text/x-python",
   "name": "python",
   "nbconvert_exporter": "python",
   "pygments_lexer": "ipython3",
   "version": "3.9.7"
  }
 },
 "nbformat": 4,
 "nbformat_minor": 2
}
